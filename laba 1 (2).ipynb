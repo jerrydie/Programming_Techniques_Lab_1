{
 "cells": [
  {
   "cell_type": "markdown",
   "metadata": {},
   "source": [
    "# Лабораторная работа № 1\n",
    "## Вариант 24, Щеглова П.Н.\n",
    "Массив данных с информацией о постояльцах некоторой гостиницы: ФИО, занимаемый номер, дата приезда, дата отъезда, сумма оплаты проживания (сравнение по полям – дата приезда, занимаемый номер, ФИО)\n",
    "\n",
    "Сортировки - в, г, е, то есть,  сортировка простыми вставками, шейкер-сортировка, быстрая сортировка"
   ]
  },
  {
   "cell_type": "code",
   "execution_count": 2,
   "metadata": {},
   "outputs": [],
   "source": [
    "\"\"\"@package docstring\n",
    "In this module class and its methods are created.\n",
    "\"\"\"\n",
    "\n",
    "import numpy as np\n",
    "\n",
    "\n",
    "class Guest:\n",
    "    \"\"\"class Guest consists of a name, room number, check-in and check-out dates in April 2020 \n",
    "    and amount to pay of the guest in the hotel.\n",
    " \n",
    "    There are methods to create, compare and represent the Guests.\n",
    "    \"\"\"\n",
    "    def __init__(self, Name, room, check_in, check_out, amount):\n",
    "        \"\"\"The constructor.\"\"\"\n",
    "        self.Name = Name\n",
    "        self.room = room\n",
    "        self.check_in = check_in\n",
    "        self.check_out = check_out\n",
    "        self.amount = amount\n",
    "        \n",
    "    def __lt__(self, other): \n",
    "        \"\"\"Comparing Guests by check-in date, room number and name. Operator <\"\"\"\n",
    "        if [self.check_in, self.room, self.Name] < [other.check_in, other.room, other.Name]:\n",
    "            return True\n",
    "        return False\n",
    "    def __gt__(self, other): \n",
    "        \"\"\"Comparing Guests by check-in date, room number and name. Operator <\"\"\"\n",
    "        if [self.check_in, self.room, self.Name] > [other.check_in, other.room, other.Name]:\n",
    "            return True\n",
    "        return False\n",
    "    def __le__(self, other): \n",
    "        \"\"\"Comparing Guests by check-in date, room number and name. Operator <=\"\"\"\n",
    "        if [self.check_in, self.room, self.Name] <= [other.check_in, other.room, other.Name]:\n",
    "            return True\n",
    "        return False\n",
    "    def __ge__(self, other): \n",
    "        \"\"\"Comparing Guests by check-in date, room number and name. Operator >=\"\"\"\n",
    "        if [self.check_in, self.room, self.Name] >= [other.check_in, other.room, other.Name]:\n",
    "            return True\n",
    "        return False\n",
    "                    \n",
    "    def __repr__(self):\n",
    "        \"\"\"The representer.\"\"\"\n",
    "        return \"Guest {i} stays in room #{j} from {k} to {l} April\\n\".format(i=self.Name,\n",
    "                                                                            j=self.room,\n",
    "                                                                            k=self.check_in,\n",
    "                                                                            l=self.check_out)\n"
   ]
  },
  {
   "cell_type": "code",
   "execution_count": 3,
   "metadata": {},
   "outputs": [],
   "source": [
    "\"\"\"@package docstring\n",
    "In this module data is imported from txt-files and saved in series of class Guest.\n",
    "\"\"\"\n",
    "import pandas as pd\n",
    "\n",
    "list1 = pd.read_csv('list 1.txt', header = None, sep='\\t')\n",
    "list2 = pd.read_csv('list 2.txt', header = None, sep='\\t')\n",
    "list3 = pd.read_csv('list 3.txt', header = None, sep='\\t')\n",
    "list4 = pd.read_csv('list 4.txt', header = None, sep='\\t')\n",
    "list5 = pd.read_csv('list 5.txt', header = None, sep='\\t')\n",
    "list6 = pd.read_csv('list 6.txt', header = None, sep='\\t')\n",
    "list7 = pd.read_csv('list 7.txt', header = None, sep='\\t')\n",
    "list8 = pd.read_csv('list 8.txt', header = None, sep='\\t')\n",
    "\n",
    "def to_Guest (df_list):\n",
    "    \"\"\"Function provides the conversion from pandas.DataFrame dtype=string to pandas.Series dtype=object.Guest.\"\"\"\n",
    "    list_guest = pd.Series(np.empty((len(df_list))))\n",
    "    for i in range(len(df_list)):\n",
    "        Name = df_list[0][i]\n",
    "        room = int(df_list[1][i])\n",
    "        check_in = int(df_list[2][i])\n",
    "        check_out = int(df_list[3][i])\n",
    "        amount = int(df_list[4][i])\n",
    "        list_guest.iloc[[i]] = Guest(Name, room, check_in, check_out, amount)\n",
    "    return list_guest\n",
    "\n",
    "list1_guest = to_Guest (list1)\n",
    "list2_guest = to_Guest (list2)\n",
    "list3_guest = to_Guest (list3)\n",
    "list4_guest = to_Guest (list4)\n",
    "list5_guest = to_Guest (list5)\n",
    "list6_guest = to_Guest (list6)\n",
    "list7_guest = to_Guest (list7)\n",
    "list8_guest = to_Guest (list8)"
   ]
  },
  {
   "cell_type": "code",
   "execution_count": 4,
   "metadata": {},
   "outputs": [],
   "source": [
    "\"\"\"@package docstring\n",
    "In this module isertion sorting algorithm is formed as a functional module. Const function.\n",
    "\"\"\"\n",
    "\n",
    "def insertion_sort(data_to_sort):\n",
    "    data = data_to_sort\n",
    "    for i in range(len(data)):\n",
    "        j = i - 1 \n",
    "        key = data[i]\n",
    "        while j >= 0 and data[j] > key:\n",
    "            data[j + 1] = data[j]\n",
    "            j -= 1\n",
    "        data[j + 1] = key\n",
    "    return data"
   ]
  },
  {
   "cell_type": "code",
   "execution_count": 5,
   "metadata": {},
   "outputs": [],
   "source": [
    "\"\"\"@package docstring\n",
    "In this module sheker sorting algorithm is formed as a functional module. Const function.\n",
    "\"\"\"\n",
    "\n",
    "def shaker_sort(data_to_sort):\n",
    "    data = data_to_sort\n",
    "    length = len(data) \n",
    "    swapped = True\n",
    "    start_index = 0\n",
    "    end_index = length - 1\n",
    "    \n",
    "    while (swapped == True): \n",
    "        \n",
    "        swapped = False\n",
    "        # проход слева направо\n",
    "        for i in range(start_index, end_index): \n",
    "            if (data[i] > data[i + 1]) : \n",
    "                # обмен элементов\n",
    "                data[i], data[i + 1] = data[i + 1], data[i] \n",
    "                swapped = True\n",
    "        # если не было обменов прерываем цикл\n",
    "        if (not(swapped)): \n",
    "            break\n",
    "        swapped = False\n",
    "        end_index = end_index - 1\n",
    "  \n",
    "        #проход справа налево\n",
    "        for i in range(end_index - 1, start_index - 1, -1): \n",
    "            if (data[i] > data[i + 1]): \n",
    "                # обмен элементов\n",
    "                data[i], data[i + 1] = data[i + 1], data[i] \n",
    "                swapped = True\n",
    "        start_index = start_index + 1\n",
    "    return data"
   ]
  },
  {
   "cell_type": "code",
   "execution_count": 10,
   "metadata": {},
   "outputs": [],
   "source": [
    "\"\"\"@package docstring\n",
    "In this module quick sorting algorithm is formed as a functional module. Const function.\n",
    "\"\"\"\n",
    "import random\n",
    "\n",
    "def quicksort(nums):\n",
    "    if len(nums) <= 1:\n",
    "        return nums\n",
    "    else:\n",
    "        q = random.choice(nums)\n",
    "        s_nums = []\n",
    "        b_nums = []\n",
    "        e_nums = []\n",
    "        for n in nums:\n",
    "            if n < q:\n",
    "                s_nums.append(n)\n",
    "            elif n > q:\n",
    "                b_nums.append(n)\n",
    "            else:\n",
    "                e_nums.append(n)\n",
    "        return quicksort(s_nums) + e_nums + quicksort(b_nums)"
   ]
  },
  {
   "cell_type": "code",
   "execution_count": 6,
   "metadata": {},
   "outputs": [
    {
     "name": "stdout",
     "output_type": "stream",
     "text": [
      "6.82 ms ± 209 µs per loop (mean ± std. dev. of 7 runs, 1 loop each)\n"
     ]
    }
   ],
   "source": [
    "%%timeit\n",
    "insertion_sort(list1_guest)"
   ]
  },
  {
   "cell_type": "code",
   "execution_count": 7,
   "metadata": {},
   "outputs": [
    {
     "name": "stdout",
     "output_type": "stream",
     "text": [
      "6.81 ms ± 1.39 ms per loop (mean ± std. dev. of 7 runs, 100 loops each)\n"
     ]
    }
   ],
   "source": [
    "%%timeit\n",
    "shaker_sort(list1_guest)"
   ]
  },
  {
   "cell_type": "code",
   "execution_count": 8,
   "metadata": {},
   "outputs": [
    {
     "name": "stdout",
     "output_type": "stream",
     "text": [
      "1.75 ms ± 11.9 µs per loop (mean ± std. dev. of 7 runs, 1000 loops each)\n"
     ]
    }
   ],
   "source": [
    "%%timeit\n",
    "quicksort(list1_guest)"
   ]
  },
  {
   "cell_type": "code",
   "execution_count": 9,
   "metadata": {},
   "outputs": [
    {
     "name": "stdout",
     "output_type": "stream",
     "text": [
      "10.5 ms ± 319 µs per loop (mean ± std. dev. of 7 runs, 1 loop each)\n"
     ]
    }
   ],
   "source": [
    "%%timeit\n",
    "insertion_sort(list2_guest)"
   ]
  },
  {
   "cell_type": "code",
   "execution_count": 10,
   "metadata": {},
   "outputs": [
    {
     "name": "stdout",
     "output_type": "stream",
     "text": [
      "8.21 ms ± 60.1 µs per loop (mean ± std. dev. of 7 runs, 100 loops each)\n"
     ]
    }
   ],
   "source": [
    "%%timeit\n",
    "shaker_sort(list2_guest)"
   ]
  },
  {
   "cell_type": "code",
   "execution_count": 11,
   "metadata": {},
   "outputs": [
    {
     "name": "stdout",
     "output_type": "stream",
     "text": [
      "1.68 ms ± 278 µs per loop (mean ± std. dev. of 7 runs, 100 loops each)\n"
     ]
    }
   ],
   "source": [
    "%%timeit\n",
    "quicksort(list2_guest)"
   ]
  },
  {
   "cell_type": "code",
   "execution_count": 12,
   "metadata": {},
   "outputs": [
    {
     "name": "stdout",
     "output_type": "stream",
     "text": [
      "6.58 ms ± 268 µs per loop (mean ± std. dev. of 7 runs, 1 loop each)\n"
     ]
    }
   ],
   "source": [
    "%%timeit\n",
    "insertion_sort(list3_guest)"
   ]
  },
  {
   "cell_type": "code",
   "execution_count": 13,
   "metadata": {},
   "outputs": [
    {
     "name": "stdout",
     "output_type": "stream",
     "text": [
      "6 ms ± 1.08 ms per loop (mean ± std. dev. of 7 runs, 100 loops each)\n"
     ]
    }
   ],
   "source": [
    "%%timeit\n",
    "shaker_sort(list3_guest)"
   ]
  },
  {
   "cell_type": "code",
   "execution_count": 14,
   "metadata": {},
   "outputs": [
    {
     "name": "stdout",
     "output_type": "stream",
     "text": [
      "1.73 ms ± 66 µs per loop (mean ± std. dev. of 7 runs, 1000 loops each)\n"
     ]
    }
   ],
   "source": [
    "%%timeit\n",
    "quicksort(list3_guest)"
   ]
  },
  {
   "cell_type": "code",
   "execution_count": 15,
   "metadata": {},
   "outputs": [
    {
     "name": "stdout",
     "output_type": "stream",
     "text": [
      "11.7 ms ± 258 µs per loop (mean ± std. dev. of 7 runs, 1 loop each)\n"
     ]
    }
   ],
   "source": [
    "%%timeit\n",
    "insertion_sort(list4_guest)"
   ]
  },
  {
   "cell_type": "code",
   "execution_count": 16,
   "metadata": {},
   "outputs": [
    {
     "name": "stdout",
     "output_type": "stream",
     "text": [
      "9.88 ms ± 1.15 ms per loop (mean ± std. dev. of 7 runs, 100 loops each)\n"
     ]
    }
   ],
   "source": [
    "%%timeit\n",
    "shaker_sort(list4_guest)"
   ]
  },
  {
   "cell_type": "code",
   "execution_count": 17,
   "metadata": {},
   "outputs": [
    {
     "name": "stdout",
     "output_type": "stream",
     "text": [
      "2.12 ms ± 45.5 µs per loop (mean ± std. dev. of 7 runs, 100 loops each)\n"
     ]
    }
   ],
   "source": [
    "%%timeit\n",
    "quicksort(list4_guest)"
   ]
  },
  {
   "cell_type": "code",
   "execution_count": 18,
   "metadata": {},
   "outputs": [
    {
     "name": "stdout",
     "output_type": "stream",
     "text": [
      "14.3 ms ± 629 µs per loop (mean ± std. dev. of 7 runs, 1 loop each)\n"
     ]
    }
   ],
   "source": [
    "%%timeit\n",
    "insertion_sort(list5_guest)"
   ]
  },
  {
   "cell_type": "code",
   "execution_count": 19,
   "metadata": {},
   "outputs": [
    {
     "name": "stdout",
     "output_type": "stream",
     "text": [
      "12.1 ms ± 1.38 ms per loop (mean ± std. dev. of 7 runs, 100 loops each)\n"
     ]
    }
   ],
   "source": [
    "%%timeit\n",
    "shaker_sort(list5_guest)"
   ]
  },
  {
   "cell_type": "code",
   "execution_count": 20,
   "metadata": {},
   "outputs": [
    {
     "name": "stdout",
     "output_type": "stream",
     "text": [
      "3.28 ms ± 536 µs per loop (mean ± std. dev. of 7 runs, 100 loops each)\n"
     ]
    }
   ],
   "source": [
    "%%timeit\n",
    "quicksort(list5_guest)"
   ]
  },
  {
   "cell_type": "code",
   "execution_count": 21,
   "metadata": {},
   "outputs": [
    {
     "name": "stdout",
     "output_type": "stream",
     "text": [
      "22.2 ms ± 1.77 ms per loop (mean ± std. dev. of 7 runs, 1 loop each)\n"
     ]
    }
   ],
   "source": [
    "%%timeit\n",
    "insertion_sort(list6_guest)"
   ]
  },
  {
   "cell_type": "code",
   "execution_count": 22,
   "metadata": {},
   "outputs": [
    {
     "name": "stdout",
     "output_type": "stream",
     "text": [
      "18.8 ms ± 835 µs per loop (mean ± std. dev. of 7 runs, 10 loops each)\n"
     ]
    }
   ],
   "source": [
    "%%timeit\n",
    "shaker_sort(list6_guest)"
   ]
  },
  {
   "cell_type": "code",
   "execution_count": 23,
   "metadata": {},
   "outputs": [
    {
     "name": "stdout",
     "output_type": "stream",
     "text": [
      "5.04 ms ± 73.2 µs per loop (mean ± std. dev. of 7 runs, 100 loops each)\n"
     ]
    }
   ],
   "source": [
    "%%timeit\n",
    "quicksort(list6_guest)"
   ]
  },
  {
   "cell_type": "code",
   "execution_count": 24,
   "metadata": {},
   "outputs": [
    {
     "name": "stdout",
     "output_type": "stream",
     "text": [
      "59.2 ms ± 7.44 ms per loop (mean ± std. dev. of 7 runs, 1 loop each)\n"
     ]
    }
   ],
   "source": [
    "%%timeit\n",
    "insertion_sort(list7_guest)"
   ]
  },
  {
   "cell_type": "code",
   "execution_count": 25,
   "metadata": {},
   "outputs": [
    {
     "name": "stdout",
     "output_type": "stream",
     "text": [
      "50.4 ms ± 12 ms per loop (mean ± std. dev. of 7 runs, 10 loops each)\n"
     ]
    }
   ],
   "source": [
    "%%timeit\n",
    "shaker_sort(list7_guest)"
   ]
  },
  {
   "cell_type": "code",
   "execution_count": 26,
   "metadata": {},
   "outputs": [
    {
     "name": "stdout",
     "output_type": "stream",
     "text": [
      "10.1 ms ± 158 µs per loop (mean ± std. dev. of 7 runs, 100 loops each)\n"
     ]
    }
   ],
   "source": [
    "%%timeit\n",
    "quicksort(list7_guest)"
   ]
  },
  {
   "cell_type": "code",
   "execution_count": 15,
   "metadata": {},
   "outputs": [
    {
     "name": "stdout",
     "output_type": "stream",
     "text": [
      "81.2 ms ± 1.53 ms per loop (mean ± std. dev. of 7 runs, 10 loops each)\n"
     ]
    }
   ],
   "source": [
    "%%timeit\n",
    "insertion_sort(list8_guest)"
   ]
  },
  {
   "cell_type": "code",
   "execution_count": 16,
   "metadata": {},
   "outputs": [
    {
     "name": "stdout",
     "output_type": "stream",
     "text": [
      "64.8 ms ± 1.2 ms per loop (mean ± std. dev. of 7 runs, 10 loops each)\n"
     ]
    }
   ],
   "source": [
    "%%timeit\n",
    "shaker_sort(list8_guest)"
   ]
  },
  {
   "cell_type": "code",
   "execution_count": 11,
   "metadata": {},
   "outputs": [
    {
     "name": "stdout",
     "output_type": "stream",
     "text": [
      "26.2 ms ± 4.62 ms per loop (mean ± std. dev. of 7 runs, 10 loops each)\n"
     ]
    }
   ],
   "source": [
    "%%timeit\n",
    "quicksort(list8_guest)"
   ]
  },
  {
   "cell_type": "code",
   "execution_count": 17,
   "metadata": {},
   "outputs": [
    {
     "data": {
      "image/png": "[encoded data removed]",
      "text/plain": [
       "<Figure size 432x288 with 1 Axes>"
      ]
     },
     "metadata": {
      "needs_background": "light"
     },
     "output_type": "display_data"
    }
   ],
   "source": [
    "\"\"\"@package docstring\n",
    "In this module graph is created to visualy compare the speed difference between 3 sorting algorithms.\n",
    "\"\"\"\n",
    "import matplotlib.pyplot as plt\n",
    "dims = list(map(len, [list3_guest,list1_guest, list2_guest, list4_guest, list5_guest, list6_guest, list7_guest , list8_guest]))\n",
    "isertion_time = [6.58, 6.82, 10.5, 11.7, 14.3, 22.2, 59.2, 81.2]\n",
    "shaker_time = [6, 6.81, 8.21, 9.88, 12.1, 18.8, 50.4, 64.8]\n",
    "quick_time = [1.73, 1.75, 1.68, 2.12, 3.28, 5.04, 10.1, 26.2]\n",
    "plt.plot(dims, isertion_time, ':g', lw=1, alpha=0.6, label='insertion')\n",
    "plt.plot(dims, shaker_time, '--r', lw=2, alpha=0.8, label='shacker')\n",
    "plt.plot(dims, quick_time, '-.b', lw=2, alpha=0.8, label='quick')\n",
    "plt.legend(loc='upper left', frameon=True)\n",
    "plt.xlabel('series\\' dimensions')\n",
    "plt.ylabel('sorting time')\n",
    "plt.show()"
   ]
  },
  {
   "cell_type": "code",
   "execution_count": null,
   "metadata": {},
   "outputs": [],
   "source": []
  }
 ],
 "metadata": {
  "kernelspec": {
   "display_name": "Python 3",
   "language": "python",
   "name": "python3"
  },
  "language_info": {
   "codemirror_mode": {
    "name": "ipython",
    "version": 3
   },
   "file_extension": ".py",
   "mimetype": "text/x-python",
   "name": "python",
   "nbconvert_exporter": "python",
   "pygments_lexer": "ipython3",
   "version": "3.7.3"
  }
 },
 "nbformat": 4,
 "nbformat_minor": 2
}
